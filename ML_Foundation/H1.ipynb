{
 "cells": [
  {
   "cell_type": "markdown",
   "metadata": {},
   "source": [
    "## PLA with naive cycles"
   ]
  },
  {
   "cell_type": "code",
   "execution_count": 13,
   "metadata": {},
   "outputs": [],
   "source": [
    "import numpy as np \n",
    "import pandas as pd \n",
    "\n",
    "# load data \n",
    "data = pd.read_csv('hw1_15_train.dat.txt', sep='\\s+', header=None, names=['x1', 'x2', 'x3', 'x4', 'y'])\n",
    "\n",
    "y = data['y'].to_numpy()\n",
    "X = data[['x1', 'x2', 'x3', 'x4']].to_numpy()"
   ]
  },
  {
   "cell_type": "code",
   "execution_count": 14,
   "metadata": {},
   "outputs": [
    {
     "name": "stdout",
     "output_type": "stream",
     "text": [
      "<class 'numpy.ndarray'>\n",
      "[ 1  1  1  1  1  1 -1  1 -1 -1]\n",
      "[[0.97681  0.10723  0.64385  0.29556 ]\n",
      " [0.67194  0.2418   0.83075  0.42741 ]\n",
      " [0.20619  0.23321  0.81004  0.98691 ]\n",
      " [0.51583  0.055814 0.92274  0.75797 ]\n",
      " [0.70893  0.10836  0.33951  0.77058 ]\n",
      " [0.55743  0.67804  0.061044 0.72689 ]\n",
      " [0.15654  0.75584  0.01122  0.42598 ]\n",
      " [0.50462  0.15137  0.33878  0.41881 ]\n",
      " [0.22657  0.59272  0.24103  0.46221 ]\n",
      " [0.49174  0.65115  0.24622  0.24796 ]]\n"
     ]
    }
   ],
   "source": [
    "print(type(y))\n",
    "print(y[:10])\n",
    "print(X[:10])"
   ]
  },
  {
   "cell_type": "code",
   "execution_count": 15,
   "metadata": {},
   "outputs": [],
   "source": [
    "def PLA_cyclic(X, y):\n",
    "    \"\"\"\n",
    "    PLA by visiting examples in the naive cycle using the order of examples in the data set (X, y).\n",
    "    \n",
    "    Args:\n",
    "        X: numpy array(n, d), feature matrix\n",
    "        y: numpy array(n, ), labels\n",
    "    Returns:\n",
    "        w         : numpy array(d+1, ), final weights including bias w0\n",
    "        update_cnt: the total number of updates \n",
    "    \"\"\"\n",
    "\n",
    "    n, d = X.shape\n",
    "\n",
    "    # Add a column as x0\n",
    "    X = np.c_[np.ones((n,1)), X]\n",
    "\n",
    "    # Initialize w to 0 \n",
    "    w = np.zeros(d+1)\n",
    "\n",
    "    update_cnt = 0\n",
    "    pla_finished = False \n",
    "    correct_num = 0\n",
    "    t = 0\n",
    "\n",
    "    while not pla_finished:\n",
    "        xt, yt = X[t], y[t]\n",
    "\n",
    "        if np.sign(w.T @ xt) == yt:\n",
    "            correct_num += 1\n",
    "        else:\n",
    "            w += yt * xt\n",
    "            update_cnt += 1\n",
    "            correct_num = 0\n",
    "        t = t+1 if t != n-1 else 0\n",
    "        if correct_num == n:\n",
    "            pla_finished = True \n",
    "    \n",
    "    return w, update_cnt"
   ]
  },
  {
   "cell_type": "code",
   "execution_count": 16,
   "metadata": {},
   "outputs": [
    {
     "name": "stdout",
     "output_type": "stream",
     "text": [
      "[-3.         3.0841436 -1.583081   2.391305   4.5287635]\n",
      "45\n"
     ]
    }
   ],
   "source": [
    "w, t = PLA_cyclic(X, y)\n",
    "print(w)\n",
    "print(t)"
   ]
  },
  {
   "cell_type": "markdown",
   "metadata": {},
   "source": [
    "## PLA by visiting examples in fixed, pre-determined random cycles"
   ]
  },
  {
   "cell_type": "code",
   "execution_count": 22,
   "metadata": {},
   "outputs": [],
   "source": [
    "def PLA_random(X, y):\n",
    "    \"\"\"\n",
    "    PLA by visiting examples in a fixed, pre-determined random cycles.\n",
    "    \n",
    "    Note: it repeat experiment for 2000 times.\n",
    "    seed.\n",
    "    \n",
    "    Args:\n",
    "        X: numpy array(n, d), feature matrix\n",
    "        y: numpy array(n, ), labels\n",
    "    Returns:\n",
    "        w         : numpy array(d+1, ), final weights including bias w0\n",
    "        update_cnt: the average number of updates \n",
    "    \"\"\"\n",
    "    T = 2000\n",
    "    t_list = []\n",
    "    n = X.shape[0]\n",
    "    indices = np.arange(n)\n",
    "    \n",
    "    for i in range(T):\n",
    "        # Shuffle X and y together using random indices\n",
    "        np.random.shuffle(indices)  \n",
    "        X = X[indices]\n",
    "        y = y[indices]\n",
    "        w, t = PLA_cyclic(X, y)\n",
    "        t_list.append(t)\n",
    "        # print(f\"{i+1}th experiment: {t} updates!\")\n",
    "    return w, int(np.mean(t_list))"
   ]
  },
  {
   "cell_type": "code",
   "execution_count": 23,
   "metadata": {},
   "outputs": [
    {
     "name": "stdout",
     "output_type": "stream",
     "text": [
      "[-3.         2.266872  -1.595303   2.735574   3.9278546]\n",
      "39\n"
     ]
    }
   ],
   "source": [
    "w, t = PLA_random(X, y)\n",
    "print(w)\n",
    "print(t)"
   ]
  },
  {
   "cell_type": "markdown",
   "metadata": {},
   "source": [
    "## PLA by visiting examples in fixed, pre-determined random cycles throughout the algorithm and a new updating rule"
   ]
  },
  {
   "cell_type": "code",
   "execution_count": 24,
   "metadata": {},
   "outputs": [],
   "source": [
    "def PLA_random_eta(X, y, eta=1.0):\n",
    "    \"\"\"\n",
    "    PLA by visiting examples in a fixed, pre-determined random cycles\n",
    "    and update the weight using the given learning rate eta with default\n",
    "    value 1.0.\n",
    "\n",
    "    Note: It repeat experiment for 2000 times.\n",
    "    \n",
    "    Args:\n",
    "        X  : numpy array(n, d), feature matrix\n",
    "        y  : numpy array(n, ), labels\n",
    "        eta: double, learning rate\n",
    "    Returns:\n",
    "        w         : numpy array(d+1, ), final weights including bias w0\n",
    "        update_cnt: the average number of updates \n",
    "    \"\"\"\n",
    "    T = 2000\n",
    "    t_list = []\n",
    "    n = X.shape[0]\n",
    "    indices = np.arange(n)\n",
    "    \n",
    "    for i in range(T):\n",
    "        # Shuffle X and y together using random indices\n",
    "        np.random.shuffle(indices)  \n",
    "        X = X[indices]\n",
    "        y = y[indices]\n",
    "        w, t = PLA_cyclic_eta(X, y, eta)\n",
    "        t_list.append(t)\n",
    "        # print(f\"{i}th experiment: {t} updates!\")\n",
    "    return w, int(np.mean(t_list))\n",
    "\n",
    "\n",
    "def PLA_cyclic_eta(X, y, eta=1.0):\n",
    "    \"\"\"\n",
    "    PLA by visiting examples in the naive cycle using the order of examples in the data set (X, y).\n",
    "    \n",
    "    Args:\n",
    "        X: numpy array(n, d), feature matrix\n",
    "        y: numpy array(n, ), labels\n",
    "    Returns:\n",
    "        w         : numpy array(d+1, ), final weights including bias w0\n",
    "        update_cnt: the total number of updates \n",
    "    \"\"\"\n",
    "    \n",
    "    n, d = X.shape\n",
    "    # Add a column of ones as first column\n",
    "    X = np.c_[np.ones((n, 1)), X]\n",
    "    # Initialize w to 0 and add an extra zero for w0\n",
    "    w = np.zeros(d + 1)\n",
    "        \n",
    "    # Count the number of updates\n",
    "    update_cnt = 0 \n",
    "    \n",
    "    is_finished = 0\n",
    "    correct_num = 0\n",
    "    t = 0\n",
    "\n",
    "    while not is_finished:\n",
    "        x_t, y_t = X[t], y[t]\n",
    "        \n",
    "        if np.sign(w.T @ x_t) == y_t:  # Correctly classify the current example\n",
    "            correct_num += 1\n",
    "        else:                       # Find a mistake\n",
    "            w += eta * y_t * x_t    # Correct the mistake\n",
    "            update_cnt += 1         # Increment update count\n",
    "            correct_num = 0         # Reset correct num to 0 to retest the new w\n",
    "        if t == n - 1:              # Start the next cycle\n",
    "            t = 0\n",
    "        else:\n",
    "            t += 1\n",
    "        if correct_num == n:        # Have all examples classified correctly\n",
    "            is_finished = 1\n",
    "  \n",
    "    return w, update_cnt"
   ]
  },
  {
   "cell_type": "code",
   "execution_count": 25,
   "metadata": {},
   "outputs": [
    {
     "name": "stdout",
     "output_type": "stream",
     "text": [
      "[-1.5        1.162222  -0.5386015  1.1827945  2.1648815]\n",
      "40\n"
     ]
    }
   ],
   "source": [
    "w, t = PLA_random_eta(X, y, eta=0.5)\n",
    "print(w)\n",
    "print(t)"
   ]
  },
  {
   "cell_type": "markdown",
   "metadata": {},
   "source": [
    "## PLA by using pocket"
   ]
  },
  {
   "cell_type": "code",
   "execution_count": 27,
   "metadata": {},
   "outputs": [],
   "source": [
    "# load data\n",
    "train_data = pd.read_csv('hw1_18_train.dat.txt', sep='\\s+', header=None, names=['x1', 'x2', 'x3', 'x4', 'y'])\n",
    "test_data = pd.read_csv('hw1_18_test.dat.txt', sep='\\s+', header=None, names=['x1', 'x2', 'x3', 'x4', 'y'])\n",
    "\n",
    "X_train = train_data[['x1', 'x2', 'x3', 'x4']].to_numpy()\n",
    "y_train = train_data['y'].to_numpy()\n",
    "\n",
    "X_test = test_data[['x1', 'x2', 'x3', 'x4']].to_numpy()\n",
    "y_test = test_data['y'].to_numpy()"
   ]
  },
  {
   "cell_type": "code",
   "execution_count": 29,
   "metadata": {},
   "outputs": [],
   "source": [
    "def PLA_pocket(X, y, num_update=50):\n",
    "    \"\"\"\n",
    "    Modified PLA algorithm by keeping best weights in pocket.\n",
    "    \n",
    "    Args:\n",
    "        X         : numpy array(n, d), feature matrix\n",
    "        y         : numpy array(n, ), labels\n",
    "        num_update: int, number of updates of w_pocket to run on the data set\n",
    "    \n",
    "    Returns:\n",
    "        w_pocket: numpy array(d + 1, ), best weights including bias w0\n",
    "    \"\"\"\n",
    "    \n",
    "    n, d = X.shape\n",
    "    # Add a column of ones as first column\n",
    "    X = np.c_[np.ones((n, 1)), X]\n",
    "    \n",
    "    # Initialize w to 0 and add an extra zero for w0\n",
    "    w = np.zeros(d + 1)\n",
    "    w_pocket = np.zeros(d + 1)\n",
    "    \n",
    "    smallest_error_rate = 1.0\n",
    "    update_cnt = 0\n",
    "    t = 0\n",
    "    correct_num = 0\n",
    "    \n",
    "    while update_cnt < num_update and correct_num < n:\n",
    "        xt, yt = X[t], y[t]\n",
    "        if np.sign(w.T @ xt) == yt:\n",
    "            correct_num += 1\n",
    "        else:\n",
    "            w += yt * xt\n",
    "            update_cnt += 1\n",
    "            correct_num = 0\n",
    "            current_error_rate = error_rate(X, y, w)\n",
    "            if current_error_rate < smallest_error_rate:\n",
    "                w_pocket = w.copy()  #### NOTE: DO NOT write w_pocket=w directly, otherwise, w_pocket and w will point to the object\n",
    "                smallest_error_rate = current_error_rate\n",
    "        if t == n - 1:\n",
    "            t = 0\n",
    "        else:\n",
    "            t += 1   \n",
    "            \n",
    "    return w_pocket\n",
    "\n",
    "\n",
    "################ Helper functions ################\n",
    "\n",
    "# Vectorized version of sign function\n",
    "sign_vec = np.vectorize(np.sign)\n",
    "\n",
    "\n",
    "def error_rate(X, y, w):\n",
    "    \"\"\"\n",
    "    Calculate the current error rate with the given weights w and examples (X, y).\n",
    "    \n",
    "    Returns:\n",
    "        err: double, error rate \n",
    "    Argss\n",
    "        X: numpy array(n, d + 1), feature matrix including a column of ones as first column\n",
    "        y: numpy array(n, ), labels\n",
    "        w: numpy array(d + 1, ), current weight\n",
    "    \"\"\"\n",
    "    \n",
    "    n = y.shape[0]\n",
    "    err = np.sum(sign_vec(X @ w) != y) / n\n",
    "    \n",
    "    return err\n",
    "\n",
    "\n",
    "def PLA_pocket_test_random(X_train, y_train, X_test, y_test, num_updates=50):\n",
    "    \"\"\"\n",
    "    Train PLA by pocket algorithm using trainning set and test on test set. \n",
    "    Repeat experiment for 2000 times and return average error rate.\n",
    "    \n",
    "    Note: we visit examples purely randomly\n",
    "    \n",
    "    Args:\n",
    "        X_train    : numpy array(n, d), training feature matrix\n",
    "        y_train    : numpy array(n, ), training labels\n",
    "        X_test     : numpy array(m, d), test feature matrix\n",
    "        y_test     : numpy array(m, ), test labels\n",
    "        num_updates: int, number of updates of pocket weights to run on the data set\n",
    "    Returns:\n",
    "        avg_error: the average of error rate\n",
    "    \"\"\"\n",
    "\n",
    "    n = X_test.shape[0]\n",
    "    X_test = np.c_[np.ones((n, 1)), X_test]\n",
    "\n",
    "    T = 2000\n",
    "    indices = np.arange(n) \n",
    "    total_error = 0.0\n",
    "\n",
    "    for _ in range(T):\n",
    "        np.random.shuffle(indices)  \n",
    "        X_train = X_train[indices]\n",
    "        y_train = y_train[indices]\n",
    "        w = PLA_pocket(X_train, y_train, num_updates)\n",
    "        total_error += error_rate(X_test, y_test, w)\n",
    "        \n",
    "    avg_error = total_error / T\n",
    "    \n",
    "    return avg_error"
   ]
  },
  {
   "cell_type": "code",
   "execution_count": 47,
   "metadata": {},
   "outputs": [
    {
     "name": "stdout",
     "output_type": "stream",
     "text": [
      "0.13117699999999954\n",
      "0.11434500000000018\n"
     ]
    }
   ],
   "source": [
    "print(PLA_pocket_test_random(X_train, y_train, X_test, y_test))\n",
    "print(PLA_pocket_test_random(X_train, y_train, X_test, y_test, 100))\n"
   ]
  },
  {
   "cell_type": "markdown",
   "metadata": {},
   "source": [
    "## PLA return w50 directyly"
   ]
  },
  {
   "cell_type": "code",
   "execution_count": 45,
   "metadata": {},
   "outputs": [],
   "source": [
    "def PLA_fixed_pocket(X, y, num_update=50):\n",
    "    \"\"\"\n",
    "    Modified PLA algorithm by keeping best weights in pocket.\n",
    "    \n",
    "    Args:\n",
    "        X         : numpy array(n, d), feature matrix\n",
    "        y         : numpy array(n, ), labels\n",
    "        num_update: int, number of updates of w_pocket to run on the data set\n",
    "    \n",
    "    Returns:\n",
    "        w: the final w after 50 updates\n",
    "    \"\"\"\n",
    "    \n",
    "    n, d = X.shape\n",
    "    # Add a column of ones as first column\n",
    "    X = np.c_[np.ones((n, 1)), X]\n",
    "    \n",
    "    # Initialize w to 0 and add an extra zero for w0\n",
    "    w = np.zeros(d + 1)\n",
    "    \n",
    "    update_cnt = 0\n",
    "    t = 0\n",
    "    correct_num = 0\n",
    "    \n",
    "    while update_cnt < num_update and correct_num < n:\n",
    "        xt, yt = X[t], y[t]\n",
    "        if np.sign(w.T @ xt) == yt:\n",
    "            correct_num += 1\n",
    "        else:\n",
    "            w += yt * xt\n",
    "            update_cnt += 1\n",
    "            correct_num = 0\n",
    "        if t == n - 1:\n",
    "            t = 0\n",
    "        else:\n",
    "            t += 1   \n",
    "            \n",
    "    return w\n",
    "\n",
    "\n",
    "def PLA_fixed_updates_test_random(X_train, y_train, X_test, y_test, num_updates=50):\n",
    "    \"\"\"\n",
    "    Train PLA by pocket algorithm using trainning set and test on test set. \n",
    "    Repeat experiment for 2000 times and return average error rate.\n",
    "    \n",
    "    Note: we visit examples purely randomly\n",
    "    \n",
    "    Args:\n",
    "        X_train    : numpy array(n, d), training feature matrix\n",
    "        y_train    : numpy array(n, ), training labels\n",
    "        X_test     : numpy array(m, d), test feature matrix\n",
    "        y_test     : numpy array(m, ), test labels\n",
    "        num_updates: int, number of updates of pocket weights to run on the data set\n",
    "    Returns:\n",
    "        avg_error: the average of error rate\n",
    "    \"\"\"\n",
    "\n",
    "    n = X_test.shape[0]\n",
    "    X_test = np.c_[np.ones((n, 1)), X_test]\n",
    "\n",
    "    T = 2000\n",
    "    indices = np.arange(n) \n",
    "    total_error = 0.0\n",
    "\n",
    "    for _ in range(T):\n",
    "        np.random.shuffle(indices)  \n",
    "        X_train = X_train[indices]\n",
    "        y_train = y_train[indices]\n",
    "        w = PLA_fixed_pocket(X_train, y_train, num_updates)\n",
    "        total_error += error_rate(X_test, y_test, w)\n",
    "        \n",
    "    avg_error = total_error / T\n",
    "    \n",
    "    return avg_error"
   ]
  },
  {
   "cell_type": "code",
   "execution_count": 46,
   "metadata": {},
   "outputs": [
    {
     "name": "stdout",
     "output_type": "stream",
     "text": [
      "0.36468299999999976\n"
     ]
    }
   ],
   "source": [
    "print(PLA_fixed_updates_test_random(X_train, y_train, X_test, y_test, 50))\n"
   ]
  }
 ],
 "metadata": {
  "kernelspec": {
   "display_name": "Python 3.9.7 ('kaggle')",
   "language": "python",
   "name": "python3"
  },
  "language_info": {
   "codemirror_mode": {
    "name": "ipython",
    "version": 3
   },
   "file_extension": ".py",
   "mimetype": "text/x-python",
   "name": "python",
   "nbconvert_exporter": "python",
   "pygments_lexer": "ipython3",
   "version": "3.9.7"
  },
  "orig_nbformat": 4,
  "vscode": {
   "interpreter": {
    "hash": "322eec173d61d90e6abc7c2798a62763adfc1f2be87cfc5776c3d17ae1dd4c1b"
   }
  }
 },
 "nbformat": 4,
 "nbformat_minor": 2
}
